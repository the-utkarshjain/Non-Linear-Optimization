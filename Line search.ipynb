{
 "cells": [
  {
   "cell_type": "markdown",
   "metadata": {},
   "source": [
    "## Bisection method"
   ]
  },
  {
   "cell_type": "code",
   "execution_count": 26,
   "metadata": {},
   "outputs": [
    {
     "data": {
      "text/plain": [
       "min_bisection (generic function with 1 method)"
      ]
     },
     "execution_count": 26,
     "metadata": {},
     "output_type": "execute_result"
    }
   ],
   "source": [
    "using ForwardDiff\n",
    "\n",
    "function min_bisection(f,a,b,ϵ)\n",
    "    #Precalculates first  derivative\n",
    "    D(f, x)  = ForwardDiff.derivative(f, x)\n",
    "    # declare lambda\n",
    "    lambda = 0.0\n",
    "    #counter\n",
    "    n = 0 \n",
    "    while b-a > ϵ \n",
    "        lambda = (a+b)/2\n",
    "        if D(f,lambda) == 0 break\n",
    "        elseif D(f,lambda) > 0 # as we are minimising the function\n",
    "            a = a\n",
    "            b = lambda\n",
    "        else \n",
    "            a = lambda\n",
    "            b = b\n",
    "        end\n",
    "        println(\"a_$(n) = $(a) b_$(n) = $(b)\")\n",
    "        n = n+1\n",
    "    end\n",
    "    println(\"λ = $(lambda)\")\n",
    "end"
   ]
  },
  {
   "cell_type": "code",
   "execution_count": 27,
   "metadata": {},
   "outputs": [
    {
     "name": "stdout",
     "output_type": "stream",
     "text": [
      "a_0 = -4 b_0 = 0.0\n",
      "a_1 = -2.0 b_1 = 0.0\n",
      "a_2 = -1.0 b_2 = 0.0\n",
      "a_3 = -0.5 b_3 = 0.0\n",
      "a_4 = -0.5 b_4 = -0.25\n",
      "a_5 = -0.5 b_5 = -0.375\n",
      "a_6 = -0.4375 b_6 = -0.375\n",
      "a_7 = -0.4375 b_7 = -0.40625\n",
      "a_8 = -0.4375 b_8 = -0.421875\n",
      "a_9 = -0.4375 b_9 = -0.4296875\n",
      "λ = -0.4296875\n"
     ]
    }
   ],
   "source": [
    "a = -4 # starting interval\n",
    "b = 4 # starting interval\n",
    "ϵ = 0.01 # precision\n",
    "\n",
    "#function want to optimise\n",
    "f(x) = x^4 - 3x^3 + 2x \n",
    "\n",
    "# call bisection function\n",
    "min_bisection(f,a,b,ϵ)"
   ]
  },
  {
   "cell_type": "code",
   "execution_count": 28,
   "metadata": {},
   "outputs": [
    {
     "name": "stdout",
     "output_type": "stream",
     "text": [
      "a_0 = 1.0 b_0 = 4\n",
      "a_1 = 1.0 b_1 = 2.5\n",
      "a_2 = 1.75 b_2 = 2.5\n",
      "a_3 = 2.125 b_3 = 2.5\n",
      "a_4 = 2.125 b_4 = 2.3125\n",
      "a_5 = 2.125 b_5 = 2.21875\n",
      "a_6 = 2.125 b_6 = 2.171875\n",
      "a_7 = 2.125 b_7 = 2.1484375\n",
      "a_8 = 2.13671875 b_8 = 2.1484375\n",
      "a_9 = 2.13671875 b_9 = 2.142578125\n",
      "λ = 2.142578125\n"
     ]
    }
   ],
   "source": [
    "a = -2\n",
    "b = 4\n",
    "ϵ = 0.01\n",
    "\n",
    "f(x) = x^4 - 3x^3 + 2x \n",
    "\n",
    "min_bisection(f,a,b,ϵ)"
   ]
  },
  {
   "cell_type": "markdown",
   "metadata": {},
   "source": [
    "## Newton's method"
   ]
  },
  {
   "cell_type": "code",
   "execution_count": 31,
   "metadata": {},
   "outputs": [],
   "source": [
    "# Line search: Newton's method\n",
    "function newton(f,x0, ϵ)\n",
    "    #Precalculates first and second derivative.\n",
    "    D(f, x)  = ForwardDiff.derivative(f, x)\n",
    "    #hack to deal with unidimensional second-order derivative\n",
    "    D²(f, x) = ForwardDiff.derivative(y -> ForwardDiff.derivative(f, y), x)\n",
    "    # counter\n",
    "    n = 0\n",
    "    # Newtown step\n",
    "    while abs(D(f, x0)) > ϵ\n",
    "        x1 = x0 - D(f, x0)/D²(f, x0)\n",
    "        x0 = x1\n",
    "        n = n + 1\n",
    "        println(\"Iteration $(n): $x0\")\n",
    "    end\n",
    "    println(\"x = $(x0)\")\n",
    "end;"
   ]
  },
  {
   "cell_type": "code",
   "execution_count": 32,
   "metadata": {},
   "outputs": [
    {
     "name": "stdout",
     "output_type": "stream",
     "text": [
      "Iteration 1: -1.722222222222222\n",
      "Iteration 2: -1.2482078853046594\n",
      "Iteration 3: -1.158203009414713\n",
      "Iteration 4: -1.1547058342139431\n",
      "x = -1.1547058342139431\n"
     ]
    }
   ],
   "source": [
    "# function to be optimised\n",
    "x0 = -3 # initial point\n",
    "f(x) = (2/3)x^3 -(8/3)x # function\n",
    "ϵ = 0.001 # precision\n",
    "\n",
    "newton(f,x0,ϵ)"
   ]
  },
  {
   "cell_type": "code",
   "execution_count": 35,
   "metadata": {},
   "outputs": [],
   "source": [
    "# Line search: Newton's method\n",
    "function Approx_newton(f,x0, x1,ϵ)\n",
    "    #Precalculates first derivative.\n",
    "    D(f, x)  = ForwardDiff.derivative(f, x)\n",
    "     # counter\n",
    "    n = 0\n",
    "    # Approx Newtown step\n",
    "    while abs(D(f, x0)) > ϵ\n",
    "        D² = (D(f,x1)-D(f,x0))/(x1-x0)\n",
    "        x2 = x1 - D(f, x1)/D²\n",
    "        x0 = x1\n",
    "        x1 = x2\n",
    "        n = n + 1\n",
    "        println(\"Iteration $(n): $x1\")\n",
    "    end\n",
    "    println(\"x = $(x0)\")\n",
    "end;"
   ]
  },
  {
   "cell_type": "code",
   "execution_count": 36,
   "metadata": {},
   "outputs": [
    {
     "name": "stdout",
     "output_type": "stream",
     "text": [
      "Iteration 1: -1.7005649717514109\n",
      "Iteration 2: -1.3617831266118132\n",
      "Iteration 3: -1.191613069566423\n",
      "Iteration 4: -1.1576941758366486\n",
      "Iteration 5: -1.1547475746859013\n",
      "Iteration 6: -1.1547005992714445\n",
      "x = -1.1547475746859013\n"
     ]
    }
   ],
   "source": [
    "# function to be optimised\n",
    "x0 = -3 # initial point\n",
    "x1 = -2.9\n",
    "#precision\n",
    "ϵ = 0.001\n",
    "f(x) = (2/3)x^3 -(8/3)x # function\n",
    "\n",
    "Approx_newton(f,x0,x1,ϵ)"
   ]
  },
  {
   "cell_type": "markdown",
   "metadata": {},
   "source": [
    "## Bisection Method"
   ]
  },
  {
   "cell_type": "code",
   "execution_count": 29,
   "metadata": {},
   "outputs": [
    {
     "data": {
      "text/plain": [
       "max_bisection (generic function with 1 method)"
      ]
     },
     "execution_count": 29,
     "metadata": {},
     "output_type": "execute_result"
    }
   ],
   "source": [
    "function max_bisection(f,a,b,ϵ)\n",
    "    #Precalculates first  derivative\n",
    "    D(f, x)  = ForwardDiff.derivative(f, x)\n",
    "    # declare lambda\n",
    "    lambda = 0.0\n",
    "    #counter\n",
    "    n = 0 \n",
    "    while b-a > ϵ \n",
    "        lambda = (a+b)/2\n",
    "        if D(f,lambda) == 0 break\n",
    "        elseif D(f,lambda) < 0 # as we are maximising the function\n",
    "            a = a\n",
    "            b = lambda\n",
    "        else \n",
    "            a = lambda\n",
    "            b = b\n",
    "        end\n",
    "        println(\"a_$(n) = $(a) b_$(n) = $(b)\")\n",
    "        n = n+1\n",
    "    end\n",
    "println(\"λ = $(lambda)\")\n",
    "end"
   ]
  },
  {
   "cell_type": "code",
   "execution_count": 30,
   "metadata": {},
   "outputs": [
    {
     "name": "stdout",
     "output_type": "stream",
     "text": [
      "a_0 = 0.0 b_0 = 1\n",
      "a_1 = 0.0 b_1 = 0.5\n",
      "λ = 0.25\n"
     ]
    }
   ],
   "source": [
    "a = -1 # starting interval\n",
    "b = 1 # starting interval\n",
    "ϵ = 0.01 # precision\n",
    "\n",
    "#function want to optimise\n",
    "f(x) = -4x^2 + 2x -1 \n",
    "\n",
    "# call bisection function\n",
    "max_bisection(f,a,b,ϵ)"
   ]
  },
  {
   "cell_type": "code",
   "execution_count": null,
   "metadata": {},
   "outputs": [],
   "source": []
  }
 ],
 "metadata": {
  "kernelspec": {
   "display_name": "Julia 1.3.0",
   "language": "julia",
   "name": "julia-1.3"
  },
  "language_info": {
   "file_extension": ".jl",
   "mimetype": "application/julia",
   "name": "julia",
   "version": "1.3.0"
  }
 },
 "nbformat": 4,
 "nbformat_minor": 4
}
